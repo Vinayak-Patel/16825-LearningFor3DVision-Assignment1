{
 "cells": [
  {
   "cell_type": "code",
   "execution_count": 1,
   "metadata": {},
   "outputs": [],
   "source": [
    "import torch\n",
    "import numpy as np\n",
    "from pytorch3d.structures import Pointclouds\n",
    "import pytorch3d.renderer as rdr\n",
    "import matplotlib.pyplot as plt\n",
    "import imageio\n",
    "from tqdm.notebook import tqdm"
   ]
  },
  {
   "cell_type": "code",
   "execution_count": 2,
   "metadata": {},
   "outputs": [],
   "source": [
    "def get_points_renderer(\n",
    "    image_size=512, \n",
    "    device=None,\n",
    "    radius=0.01,\n",
    "    background_color=(1, 1, 1)\n",
    "):\n",
    "    raster_settings = rdr.PointsRasterizationSettings(\n",
    "        image_size=image_size,\n",
    "        radius=radius,\n",
    "        points_per_pixel=10\n",
    "    )\n",
    "    \n",
    "    renderer = rdr.PointsRenderer(\n",
    "        rasterizer= rdr.PointsRasterizer(\n",
    "            cameras= None,\n",
    "            raster_settings= raster_settings\n",
    "        ),\n",
    "        compositor= rdr.AlphaCompositor()\n",
    "    )\n",
    "    \n",
    "    return renderer"
   ]
  },
  {
   "cell_type": "code",
   "execution_count": 3,
   "metadata": {},
   "outputs": [],
   "source": [
    "def create_point_cloud(rgb, depth, mask, camera, device):\n",
    "    points, colors = unproject_depth_image(\n",
    "        rgb,\n",
    "        depth,\n",
    "        mask,\n",
    "        camera\n",
    "    )\n",
    "    \n",
    "    point_cloud = Pointclouds(\n",
    "        points=[points.to(device)],\n",
    "        features=[colors.to(device)]\n",
    "    )\n",
    "    \n",
    "    return point_cloud"
   ]
  },
  {
   "cell_type": "code",
   "execution_count": 4,
   "metadata": {},
   "outputs": [],
   "source": [
    "def render_point_clouds(point_cloud, device, num_views=30, distance=6.0):\n",
    "    renderer = get_points_renderer(\n",
    "        image_size=512,\n",
    "        device=device\n",
    "    )\n",
    "    \n",
    "    images = []\n",
    "    angles = torch.linspace(-180, 180, num_views)\n",
    "    \n",
    "    for angle in tqdm(angles):\n",
    "        R, T = rdr.look_at_view_transform(\n",
    "            dist=distance,\n",
    "            elev=30.0,\n",
    "            azim=angle.item()\n",
    "        )\n",
    "        cameras = rdr.FoVOrthographicCameras(\n",
    "            R=R,\n",
    "            T=T,\n",
    "            device=device\n",
    "        )\n",
    "        \n",
    "        rend = renderer(point_cloud, cameras=cameras)\n",
    "        image = rend[0, ..., :3].cpu().numpy()\n",
    "        images.append((image * 255).astype(np.uint8))\n",
    "    \n",
    "    return images"
   ]
  },
  {
   "cell_type": "code",
   "execution_count": 5,
   "metadata": {},
   "outputs": [
    {
     "ename": "NameError",
     "evalue": "name 'load_rgbd_data' is not defined",
     "output_type": "error",
     "traceback": [
      "\u001b[1;31m---------------------------------------------------------------------------\u001b[0m",
      "\u001b[1;31mNameError\u001b[0m                                 Traceback (most recent call last)",
      "Cell \u001b[1;32mIn[5], line 3\u001b[0m\n\u001b[0;32m      1\u001b[0m device \u001b[38;5;241m=\u001b[39m torch\u001b[38;5;241m.\u001b[39mdevice(\u001b[38;5;124m\"\u001b[39m\u001b[38;5;124mcuda:0\u001b[39m\u001b[38;5;124m\"\u001b[39m \u001b[38;5;28;01mif\u001b[39;00m torch\u001b[38;5;241m.\u001b[39mcuda\u001b[38;5;241m.\u001b[39mis_available() \u001b[38;5;28;01melse\u001b[39;00m \u001b[38;5;124m\"\u001b[39m\u001b[38;5;124mcpu\u001b[39m\u001b[38;5;124m\"\u001b[39m)\n\u001b[1;32m----> 3\u001b[0m data_dict \u001b[38;5;241m=\u001b[39m \u001b[43mload_rgbd_data\u001b[49m()\n\u001b[0;32m      5\u001b[0m pc1 \u001b[38;5;241m=\u001b[39m create_point_cloud(\n\u001b[0;32m      6\u001b[0m     data_dict[\u001b[38;5;124m\"\u001b[39m\u001b[38;5;124mrgb1\u001b[39m\u001b[38;5;124m\"\u001b[39m],\n\u001b[0;32m      7\u001b[0m     data_dict[\u001b[38;5;124m\"\u001b[39m\u001b[38;5;124mdepth1\u001b[39m\u001b[38;5;124m\"\u001b[39m],\n\u001b[1;32m   (...)\u001b[0m\n\u001b[0;32m     10\u001b[0m     device\n\u001b[0;32m     11\u001b[0m )\n\u001b[0;32m     13\u001b[0m \u001b[38;5;66;03m# Create second point cloud\u001b[39;00m\n",
      "\u001b[1;31mNameError\u001b[0m: name 'load_rgbd_data' is not defined"
     ]
    }
   ],
   "source": [
    "device = torch.device(\"cuda:0\" if torch.cuda.is_available() else \"cpu\")\n",
    "\n",
    "data_dict = load_rgbd_data()\n",
    "\n",
    "pc1 = create_point_cloud(\n",
    "    data_dict[\"rgb1\"],\n",
    "    data_dict[\"depth1\"],\n",
    "    data_dict[\"mask1\"],\n",
    "    data_dict[\"camera1\"],\n",
    "    device\n",
    ")\n",
    "\n",
    "# Create second point cloud\n",
    "pc2 = create_point_cloud(\n",
    "    data_dict[\"rgb2\"],\n",
    "    data_dict[\"depth2\"],\n",
    "    data_dict[\"mask2\"],\n",
    "    data_dict[\"camera2\"],\n",
    "    device\n",
    ")"
   ]
  }
 ],
 "metadata": {
  "kernelspec": {
   "display_name": "pytorch3d",
   "language": "python",
   "name": "python3"
  },
  "language_info": {
   "codemirror_mode": {
    "name": "ipython",
    "version": 3
   },
   "file_extension": ".py",
   "mimetype": "text/x-python",
   "name": "python",
   "nbconvert_exporter": "python",
   "pygments_lexer": "ipython3",
   "version": "3.9.21"
  }
 },
 "nbformat": 4,
 "nbformat_minor": 2
}
